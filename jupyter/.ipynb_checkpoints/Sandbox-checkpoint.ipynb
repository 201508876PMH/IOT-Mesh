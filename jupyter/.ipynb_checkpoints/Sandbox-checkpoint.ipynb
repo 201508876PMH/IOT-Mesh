{
 "cells": [
  {
   "cell_type": "code",
   "execution_count": 1,
   "metadata": {},
   "outputs": [],
   "source": [
    "import os"
   ]
  },
  {
   "cell_type": "code",
   "execution_count": null,
   "metadata": {},
   "outputs": [
    {
     "name": "stdout",
     "output_type": "stream",
     "text": [
      "ft\n",
      "ft\n",
      "ft\n",
      "ft\n",
      "ft\n",
      "ft\n",
      "ft\n",
      "^C\n",
      "ft\n",
      "ft\n",
      "ft\n",
      "^C\n",
      "ft\n",
      "^C\n",
      "ft\n",
      "ft\n",
      "^C\n",
      "ft\n",
      "ft\n",
      "ft\n",
      "ft\n",
      "ft\n",
      "ft\n",
      "ft\n",
      "ft\n",
      "ft\n",
      "ft\n",
      "ft\n",
      "ft\n",
      "ft\n",
      "ft\n",
      "ft\n",
      "ft\n",
      "ft\n",
      "ft\n",
      "ft\n",
      "ft\n",
      "ft\n",
      "ft\n",
      "ft\n",
      "ft\n"
     ]
    }
   ],
   "source": [
    "#Fetch files from 10.1.0.1 router\n",
    "try:\n",
    "    while True:\n",
    "        files = !scp -r root@10.1.0.1:/root/logfiles Logfiles\n",
    "        print(\"ft\")\n",
    "except KeyboardInterrupt:\n",
    "    pass "
   ]
  },
  {
   "cell_type": "code",
   "execution_count": null,
   "metadata": {},
   "outputs": [],
   "source": [
    "%cd Logfiles\n",
    "!dir\n",
    "try:\n",
    "    while True:\n",
    "         !type logfile_node01.txt\n",
    "        print(\"ft\")\n",
    "except KeyboardInterrupt:\n",
    "    pass \n",
    "\n",
    "%cd"
   ]
  },
  {
   "cell_type": "code",
   "execution_count": null,
   "metadata": {},
   "outputs": [],
   "source": []
  },
  {
   "cell_type": "code",
   "execution_count": null,
   "metadata": {},
   "outputs": [],
   "source": [
    "whi"
   ]
  }
 ],
 "metadata": {
  "kernelspec": {
   "display_name": "Python 3",
   "language": "python",
   "name": "python3"
  },
  "language_info": {
   "codemirror_mode": {
    "name": "ipython",
    "version": 3
   },
   "file_extension": ".py",
   "mimetype": "text/x-python",
   "name": "python",
   "nbconvert_exporter": "python",
   "pygments_lexer": "ipython3",
   "version": "3.8.6"
  }
 },
 "nbformat": 4,
 "nbformat_minor": 4
}
